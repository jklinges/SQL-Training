{
 "cells": [
  {
   "cell_type": "code",
   "execution_count": null,
   "metadata": {},
   "outputs": [],
   "source": [
    "# dependencies and setup\n",
    "import pandas as pd\n",
    "from sqlalchemy import create_engine"
   ]
  },
  {
   "cell_type": "code",
   "execution_count": null,
   "metadata": {},
   "outputs": [],
   "source": [
    "# Store CSV to DataFrame\n",
    "listing_host_csv = \"Resources/listings.csv\"\n",
    "listing_host_df = pd.read_csv(listing_host_csv,encoding=\"utf8\")"
   ]
  },
  {
   "cell_type": "code",
   "execution_count": null,
   "metadata": {},
   "outputs": [],
   "source": [
    "# change column \"name\" to something that SQL doesn't already recognize\n",
    "listing_host_df.rename(index=str,columns={\"name\":\"listing_name\"},inplace=True)\n",
    "listing_host_df.head()"
   ]
  },
  {
   "cell_type": "markdown",
   "metadata": {},
   "source": [
    "# Creating the \"Listings\" dataframe and cleaning it"
   ]
  },
  {
   "cell_type": "code",
   "execution_count": null,
   "metadata": {},
   "outputs": [],
   "source": [
    "# Create new data with select columns for the AirBnB listings\n",
    "listing_df = listing_host_df[[\"id\",\"listing_name\",\"street\",\"neighbourhood_cleansed\",\"neighbourhood_group_cleansed\",\"city\",\"state\",\"zipcode\",\"latitude\",\"longitude\",\"is_location_exact\",\"property_type\",\"room_type\",\"accommodates\",\"bathrooms\",\"bedrooms\",\"beds\",\"bed_type\",\"square_feet\",\"price\",\"weekly_price\",\"monthly_price\",\"security_deposit\",\"cleaning_fee\",\"guests_included\",\"extra_people\",\"minimum_nights\",\"maximum_nights\",\"has_availability\",\"availability_30\",\"availability_60\",\"availability_90\",\"availability_365\",\"number_of_reviews\",\"first_review\",\"last_review\",\"review_scores_rating\",\"review_scores_accuracy\",\"review_scores_cleanliness\",\"review_scores_checkin\",\"review_scores_communication\",\"review_scores_location\",\"review_scores_value\",\"requires_license\",\"instant_bookable\",\"cancellation_policy\",\"require_guest_profile_picture\",\"require_guest_phone_verification\",\"reviews_per_month\",\"host_id\"]].copy()"
   ]
  },
  {
   "cell_type": "code",
   "execution_count": null,
   "metadata": {},
   "outputs": [],
   "source": [
    "# convert dates to datetime\n",
    "listing_df[\"first_review\"]=pd.to_datetime(listing_df[\"first_review\"])\n",
    "listing_df[\"last_review\"]=pd.to_datetime(listing_df[\"last_review\"])"
   ]
  },
  {
   "cell_type": "code",
   "execution_count": null,
   "metadata": {},
   "outputs": [],
   "source": [
    "# convert boolean columns to boolean\n",
    "listing_df[\"is_location_exact\"].replace([\"t\",\"f\"],[True,False],inplace=True)\n",
    "listing_df[\"has_availability\"].replace([\"t\",\"f\"],[True,False],inplace=True)\n",
    "listing_df[\"requires_license\"].replace([\"t\",\"f\"],[True,False],inplace=True)\n",
    "listing_df[\"instant_bookable\"].replace([\"t\",\"f\"],[True,False],inplace=True)\n",
    "listing_df[\"require_guest_profile_picture\"].replace([\"t\",\"f\"],[True,False],inplace=True)\n",
    "listing_df[\"require_guest_phone_verification\"].replace([\"t\",\"f\"],[True,False],inplace=True)"
   ]
  },
  {
   "cell_type": "code",
   "execution_count": null,
   "metadata": {},
   "outputs": [],
   "source": [
    "# convert all the currency columns to numeric values instead of strings\n",
    "# define the currency columns\n",
    "currency_cols=[\"price\",\"weekly_price\",\"monthly_price\",\"security_deposit\",\"cleaning_fee\",\"extra_people\"]\n",
    "# remove dollar sign and commas\n",
    "listing_df[currency_cols]=listing_df[currency_cols].replace({'\\$': '', ',': ''}, regex=True)\n",
    "# changing the leftover value (minus currency sign and commas) to a number\n",
    "listing_df[\"price\"] = pd.to_numeric(listing_df[\"price\"])\n",
    "listing_df[\"weekly_price\"] = pd.to_numeric(listing_df[\"weekly_price\"])\n",
    "listing_df[\"monthly_price\"] = pd.to_numeric(listing_df[\"monthly_price\"])\n",
    "listing_df[\"security_deposit\"] = pd.to_numeric(listing_df[\"security_deposit\"])\n",
    "listing_df[\"cleaning_fee\"] = pd.to_numeric(listing_df[\"cleaning_fee\"])\n",
    "listing_df[\"extra_people\"] = pd.to_numeric(listing_df[\"extra_people\"])\n",
    "listing_df"
   ]
  },
  {
   "cell_type": "markdown",
   "metadata": {},
   "source": [
    "# Creating the \"Hosts\" dataframe and cleaning it"
   ]
  },
  {
   "cell_type": "code",
   "execution_count": null,
   "metadata": {},
   "outputs": [],
   "source": [
    "# Create new data with select columns for the AirBnB hosts\n",
    "host_df = listing_host_df[[\"host_id\",\"host_name\",\"host_since\",\"host_location\",\"host_response_time\",\"host_response_rate\",\"host_acceptance_rate\",\"host_is_superhost\",\"host_neighbourhood\",\"host_listings_count\",\"host_has_profile_pic\",\"host_identity_verified\"]].copy()"
   ]
  },
  {
   "cell_type": "code",
   "execution_count": null,
   "metadata": {},
   "outputs": [],
   "source": [
    "# delete duplicates\n",
    "host_df.drop_duplicates(keep=\"first\",inplace=True)"
   ]
  },
  {
   "cell_type": "code",
   "execution_count": null,
   "metadata": {},
   "outputs": [],
   "source": [
    "# convert dates to datetime format\n",
    "host_df[\"host_since\"]=pd.to_datetime(host_df[\"host_since\"])"
   ]
  },
  {
   "cell_type": "code",
   "execution_count": null,
   "metadata": {},
   "outputs": [],
   "source": [
    "# convert boolean columns to boolean\n",
    "host_df[\"host_is_superhost\"].replace([\"t\",\"f\"],[True,False],inplace=True)\n",
    "host_df[\"host_has_profile_pic\"].replace([\"t\",\"f\"],[True,False],inplace=True)\n",
    "host_df[\"host_identity_verified\"].replace([\"t\",\"f\"],[True,False],inplace=True)"
   ]
  },
  {
   "cell_type": "code",
   "execution_count": null,
   "metadata": {},
   "outputs": [],
   "source": [
    "# converting the percentage columns from strings to percentages\n",
    "# remove the percentage symbols from the columns with percentages\n",
    "host_df[\"host_response_rate\"]=host_df[\"host_response_rate\"].replace({'\\$': '', ',': '', '%':''}, regex=True)\n",
    "host_df[\"host_acceptance_rate\"]=host_df[\"host_acceptance_rate\"].replace({'\\$': '', ',': '', '%':''}, regex=True)\n",
    "# convert the percentage columns to numbers\n",
    "host_df[\"host_response_rate\"] = pd.to_numeric(host_df[\"host_response_rate\"])\n",
    "host_df[\"host_acceptance_rate\"] = pd.to_numeric(host_df[\"host_acceptance_rate\"])\n",
    "host_df"
   ]
  },
  {
   "cell_type": "markdown",
   "metadata": {},
   "source": [
    "# Creating the \"Availability\" dataframe and cleaning it¶"
   ]
  },
  {
   "cell_type": "code",
   "execution_count": null,
   "metadata": {},
   "outputs": [],
   "source": [
    "# Store CSV to DataFrame\n",
    "availability_file = \"Resources/calendar.csv\"\n",
    "availability_df = pd.read_csv(availability_file,encoding=\"utf8\")"
   ]
  },
  {
   "cell_type": "code",
   "execution_count": null,
   "metadata": {},
   "outputs": [],
   "source": [
    "# change column \"date\" to something that SQL doesn't already recognize\n",
    "availability_df.rename(index=str,columns={\"date\":\"available_date\"},inplace=True)\n",
    "# convert column to datetime\n",
    "availability_df[\"available_date\"]=pd.to_datetime(availability_df[\"available_date\"])"
   ]
  },
  {
   "cell_type": "code",
   "execution_count": null,
   "metadata": {},
   "outputs": [],
   "source": [
    "# convert boolean columns to boolean\n",
    "availability_df[\"available\"].replace([\"t\",\"f\"], [True,False], inplace=True)"
   ]
  },
  {
   "cell_type": "code",
   "execution_count": null,
   "metadata": {},
   "outputs": [],
   "source": [
    "# remove dollar sign\n",
    "availability_df[\"price\"] = availability_df[\"price\"].replace({'\\$': '', ',': ''}, regex=True)\n",
    "# convert the price column to numeric values instead of strings\n",
    "availability_df[\"price\"] = pd.to_numeric(availability_df[\"price\"])\n",
    "availability_df.head()"
   ]
  },
  {
   "cell_type": "markdown",
   "metadata": {},
   "source": [
    "# Creating the \"Reviews\" dataframe and cleaning it"
   ]
  },
  {
   "cell_type": "code",
   "execution_count": null,
   "metadata": {},
   "outputs": [],
   "source": [
    "# Store CSV to DataFrame\n",
    "reviews_file = \"Resources/reviews.csv\"\n",
    "reviews_df = pd.read_csv(reviews_file,encoding=\"utf8\")"
   ]
  },
  {
   "cell_type": "code",
   "execution_count": null,
   "metadata": {},
   "outputs": [],
   "source": [
    "# change column \"date/id\" to something that SQL doesn't already recognize\n",
    "reviews_df.rename(index=str,columns={\"date\":\"review_date\"},inplace=True)\n",
    "reviews_df.rename(columns={\"id\":\"review_id\"}, inplace=True)"
   ]
  },
  {
   "cell_type": "code",
   "execution_count": null,
   "metadata": {},
   "outputs": [],
   "source": [
    "# Create new data with select columns for the AirBnB listings\n",
    "review_df = reviews_df[['review_id', \"listing_id\", \"review_date\", \"reviewer_id\", \"reviewer_name\", \"comments\"]].copy()"
   ]
  },
  {
   "cell_type": "code",
   "execution_count": null,
   "metadata": {},
   "outputs": [],
   "source": [
    "# convert dates to datetime\n",
    "review_df[\"review_date\"] = pd.to_datetime(review_df[\"review_date\"])\n",
    "review_df.head()"
   ]
  },
  {
   "cell_type": "markdown",
   "metadata": {},
   "source": [
    "# SQL"
   ]
  },
  {
   "cell_type": "code",
   "execution_count": null,
   "metadata": {},
   "outputs": [],
   "source": [
    "# establish the MySQL database connection and create the engine\n",
    "rds_connection_string = \"root:<INSERT PASSWORD>@127.0.0.1/seattle_airbnb_db\"\n",
    "engine = create_engine(f\"mysql+pymysql://{rds_connection_string}?charset=utf8\", encoding = \"utf8\")"
   ]
  },
  {
   "cell_type": "code",
   "execution_count": null,
   "metadata": {},
   "outputs": [],
   "source": [
    "# check tablenames in the MySQL database\n",
    "engine.table_names()"
   ]
  },
  {
   "cell_type": "code",
   "execution_count": null,
   "metadata": {},
   "outputs": [],
   "source": [
    "# add the hosts dataframe to MySQL\n",
    "host_df.to_sql(name=\"airbnb_hosts\",con=engine,if_exists=\"append\",index=False,chunksize=2000)"
   ]
  },
  {
   "cell_type": "code",
   "execution_count": null,
   "metadata": {},
   "outputs": [],
   "source": [
    "# add the listings dataframe to MySQL\n",
    "listing_df.to_sql(name=\"listings\",con=engine,if_exists=\"append\",index=False,chunksize=200)"
   ]
  },
  {
   "cell_type": "code",
   "execution_count": null,
   "metadata": {},
   "outputs": [],
   "source": [
    "# add the property availability dataframe to MySQL\n",
    "availability_df.to_sql(name=\"property_availability\",con=engine,if_exists=\"append\",index=False,chunksize=2000)"
   ]
  },
  {
   "cell_type": "code",
   "execution_count": null,
   "metadata": {},
   "outputs": [],
   "source": [
    "# add the property reviews dataframe to MySQL\n",
    "reviews_df.to_sql(name=\"property_reviews\",con=engine,if_exists=\"append\",index=False,chunksize=2000)"
   ]
  }
 ],
 "metadata": {
  "kernelspec": {
   "display_name": "Python 3",
   "language": "python",
   "name": "python3"
  },
  "language_info": {
   "codemirror_mode": {
    "name": "ipython",
    "version": 3
   },
   "file_extension": ".py",
   "mimetype": "text/x-python",
   "name": "python",
   "nbconvert_exporter": "python",
   "pygments_lexer": "ipython3",
   "version": "3.6.10"
  }
 },
 "nbformat": 4,
 "nbformat_minor": 4
}
